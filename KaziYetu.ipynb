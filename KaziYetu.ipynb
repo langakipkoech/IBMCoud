{
    "cells": [
        {
            "metadata": {},
            "cell_type": "markdown",
            "source": "n this lab, you will make a get request to the SpaceX API. You will also do some basic data wrangling and formating.\n\nRequest to the SpaceX API\nClean the requested data"
        },
        {
            "metadata": {},
            "cell_type": "code",
            "source": "import numpy as np\nimport pandas as pd\nimport requests\nimport datetime",
            "execution_count": 13,
            "outputs": []
        },
        {
            "metadata": {},
            "cell_type": "code",
            "source": "static_json_url='https://cf-courses-data.s3.us.cloud-object-storage.appdomain.cloud/IBM-DS0321EN-SkillsNetwork/datasets/API_call_spacex_api.json'",
            "execution_count": 14,
            "outputs": []
        },
        {
            "metadata": {},
            "cell_type": "code",
            "source": "response = requests.get(static_json_url)",
            "execution_count": 15,
            "outputs": []
        },
        {
            "metadata": {},
            "cell_type": "code",
            "source": "response_json = response.json()",
            "execution_count": 16,
            "outputs": []
        },
        {
            "metadata": {},
            "cell_type": "code",
            "source": "#turn the data to dataframe we can use jsonnormalize\ndata = pd.json_normalize(response_json)",
            "execution_count": 17,
            "outputs": []
        },
        {
            "metadata": {},
            "cell_type": "code",
            "source": "data.head()",
            "execution_count": 18,
            "outputs": [
                {
                    "output_type": "execute_result",
                    "execution_count": 18,
                    "data": {
                        "text/plain": "       static_fire_date_utc  static_fire_date_unix    tbd    net  window  \\\n0  2006-03-17T00:00:00.000Z           1.142554e+09  False  False     0.0   \n1                      None                    NaN  False  False     0.0   \n2                      None                    NaN  False  False     0.0   \n3  2008-09-20T00:00:00.000Z           1.221869e+09  False  False     0.0   \n4                      None                    NaN  False  False     0.0   \n\n                     rocket  success  \\\n0  5e9d0d95eda69955f709d1eb    False   \n1  5e9d0d95eda69955f709d1eb    False   \n2  5e9d0d95eda69955f709d1eb    False   \n3  5e9d0d95eda69955f709d1eb     True   \n4  5e9d0d95eda69955f709d1eb     True   \n\n                                             details crew ships  ...  \\\n0   Engine failure at 33 seconds and loss of vehicle   []    []  ...   \n1  Successful first stage burn and transition to ...   []    []  ...   \n2  Residual stage 1 thrust led to collision betwe...   []    []  ...   \n3  Ratsat was carried to orbit on the first succe...   []    []  ...   \n4                                               None   []    []  ...   \n\n  links.reddit.media links.reddit.recovery links.flickr.small  \\\n0               None                  None                 []   \n1               None                  None                 []   \n2               None                  None                 []   \n3               None                  None                 []   \n4               None                  None                 []   \n\n   links.flickr.original                                     links.presskit  \\\n0                     []                                               None   \n1                     []                                               None   \n2                     []                                               None   \n3                     []                                               None   \n4                     []  http://www.spacex.com/press/2012/12/19/spacexs...   \n\n                                 links.webcast links.youtube_id  \\\n0  https://www.youtube.com/watch?v=0a_00nJ_Y88      0a_00nJ_Y88   \n1  https://www.youtube.com/watch?v=Lk4zQ2wP-Nc      Lk4zQ2wP-Nc   \n2  https://www.youtube.com/watch?v=v0w9p3U8860      v0w9p3U8860   \n3  https://www.youtube.com/watch?v=dLQ2tZEH6G0      dLQ2tZEH6G0   \n4  https://www.youtube.com/watch?v=yTaIDooc8Og      yTaIDooc8Og   \n\n                                       links.article  \\\n0  https://www.space.com/2196-spacex-inaugural-fa...   \n1  https://www.space.com/3590-spacex-falcon-1-roc...   \n2  http://www.spacex.com/news/2013/02/11/falcon-1...   \n3               https://en.wikipedia.org/wiki/Ratsat   \n4  http://www.spacex.com/news/2013/02/12/falcon-1...   \n\n                                     links.wikipedia fairings  \n0              https://en.wikipedia.org/wiki/DemoSat      NaN  \n1              https://en.wikipedia.org/wiki/DemoSat      NaN  \n2  https://en.wikipedia.org/wiki/Trailblazer_(sat...      NaN  \n3               https://en.wikipedia.org/wiki/Ratsat      NaN  \n4             https://en.wikipedia.org/wiki/RazakSAT      NaN  \n\n[5 rows x 42 columns]",
                        "text/html": "<div>\n<style scoped>\n    .dataframe tbody tr th:only-of-type {\n        vertical-align: middle;\n    }\n\n    .dataframe tbody tr th {\n        vertical-align: top;\n    }\n\n    .dataframe thead th {\n        text-align: right;\n    }\n</style>\n<table border=\"1\" class=\"dataframe\">\n  <thead>\n    <tr style=\"text-align: right;\">\n      <th></th>\n      <th>static_fire_date_utc</th>\n      <th>static_fire_date_unix</th>\n      <th>tbd</th>\n      <th>net</th>\n      <th>window</th>\n      <th>rocket</th>\n      <th>success</th>\n      <th>details</th>\n      <th>crew</th>\n      <th>ships</th>\n      <th>...</th>\n      <th>links.reddit.media</th>\n      <th>links.reddit.recovery</th>\n      <th>links.flickr.small</th>\n      <th>links.flickr.original</th>\n      <th>links.presskit</th>\n      <th>links.webcast</th>\n      <th>links.youtube_id</th>\n      <th>links.article</th>\n      <th>links.wikipedia</th>\n      <th>fairings</th>\n    </tr>\n  </thead>\n  <tbody>\n    <tr>\n      <th>0</th>\n      <td>2006-03-17T00:00:00.000Z</td>\n      <td>1.142554e+09</td>\n      <td>False</td>\n      <td>False</td>\n      <td>0.0</td>\n      <td>5e9d0d95eda69955f709d1eb</td>\n      <td>False</td>\n      <td>Engine failure at 33 seconds and loss of vehicle</td>\n      <td>[]</td>\n      <td>[]</td>\n      <td>...</td>\n      <td>None</td>\n      <td>None</td>\n      <td>[]</td>\n      <td>[]</td>\n      <td>None</td>\n      <td>https://www.youtube.com/watch?v=0a_00nJ_Y88</td>\n      <td>0a_00nJ_Y88</td>\n      <td>https://www.space.com/2196-spacex-inaugural-fa...</td>\n      <td>https://en.wikipedia.org/wiki/DemoSat</td>\n      <td>NaN</td>\n    </tr>\n    <tr>\n      <th>1</th>\n      <td>None</td>\n      <td>NaN</td>\n      <td>False</td>\n      <td>False</td>\n      <td>0.0</td>\n      <td>5e9d0d95eda69955f709d1eb</td>\n      <td>False</td>\n      <td>Successful first stage burn and transition to ...</td>\n      <td>[]</td>\n      <td>[]</td>\n      <td>...</td>\n      <td>None</td>\n      <td>None</td>\n      <td>[]</td>\n      <td>[]</td>\n      <td>None</td>\n      <td>https://www.youtube.com/watch?v=Lk4zQ2wP-Nc</td>\n      <td>Lk4zQ2wP-Nc</td>\n      <td>https://www.space.com/3590-spacex-falcon-1-roc...</td>\n      <td>https://en.wikipedia.org/wiki/DemoSat</td>\n      <td>NaN</td>\n    </tr>\n    <tr>\n      <th>2</th>\n      <td>None</td>\n      <td>NaN</td>\n      <td>False</td>\n      <td>False</td>\n      <td>0.0</td>\n      <td>5e9d0d95eda69955f709d1eb</td>\n      <td>False</td>\n      <td>Residual stage 1 thrust led to collision betwe...</td>\n      <td>[]</td>\n      <td>[]</td>\n      <td>...</td>\n      <td>None</td>\n      <td>None</td>\n      <td>[]</td>\n      <td>[]</td>\n      <td>None</td>\n      <td>https://www.youtube.com/watch?v=v0w9p3U8860</td>\n      <td>v0w9p3U8860</td>\n      <td>http://www.spacex.com/news/2013/02/11/falcon-1...</td>\n      <td>https://en.wikipedia.org/wiki/Trailblazer_(sat...</td>\n      <td>NaN</td>\n    </tr>\n    <tr>\n      <th>3</th>\n      <td>2008-09-20T00:00:00.000Z</td>\n      <td>1.221869e+09</td>\n      <td>False</td>\n      <td>False</td>\n      <td>0.0</td>\n      <td>5e9d0d95eda69955f709d1eb</td>\n      <td>True</td>\n      <td>Ratsat was carried to orbit on the first succe...</td>\n      <td>[]</td>\n      <td>[]</td>\n      <td>...</td>\n      <td>None</td>\n      <td>None</td>\n      <td>[]</td>\n      <td>[]</td>\n      <td>None</td>\n      <td>https://www.youtube.com/watch?v=dLQ2tZEH6G0</td>\n      <td>dLQ2tZEH6G0</td>\n      <td>https://en.wikipedia.org/wiki/Ratsat</td>\n      <td>https://en.wikipedia.org/wiki/Ratsat</td>\n      <td>NaN</td>\n    </tr>\n    <tr>\n      <th>4</th>\n      <td>None</td>\n      <td>NaN</td>\n      <td>False</td>\n      <td>False</td>\n      <td>0.0</td>\n      <td>5e9d0d95eda69955f709d1eb</td>\n      <td>True</td>\n      <td>None</td>\n      <td>[]</td>\n      <td>[]</td>\n      <td>...</td>\n      <td>None</td>\n      <td>None</td>\n      <td>[]</td>\n      <td>[]</td>\n      <td>http://www.spacex.com/press/2012/12/19/spacexs...</td>\n      <td>https://www.youtube.com/watch?v=yTaIDooc8Og</td>\n      <td>yTaIDooc8Og</td>\n      <td>http://www.spacex.com/news/2013/02/12/falcon-1...</td>\n      <td>https://en.wikipedia.org/wiki/RazakSAT</td>\n      <td>NaN</td>\n    </tr>\n  </tbody>\n</table>\n<p>5 rows \u00d7 42 columns</p>\n</div>"
                    },
                    "metadata": {}
                }
            ]
        },
        {
            "metadata": {},
            "cell_type": "code",
            "source": "data = data[['rocket', 'payloads', 'launchpad', 'cores', 'flight_number', 'date_utc']]",
            "execution_count": 19,
            "outputs": []
        },
        {
            "metadata": {},
            "cell_type": "code",
            "source": "data",
            "execution_count": 20,
            "outputs": [
                {
                    "output_type": "execute_result",
                    "execution_count": 20,
                    "data": {
                        "text/plain": "                       rocket  \\\n0    5e9d0d95eda69955f709d1eb   \n1    5e9d0d95eda69955f709d1eb   \n2    5e9d0d95eda69955f709d1eb   \n3    5e9d0d95eda69955f709d1eb   \n4    5e9d0d95eda69955f709d1eb   \n..                        ...   \n102  5e9d0d95eda69973a809d1ec   \n103  5e9d0d95eda69973a809d1ec   \n104  5e9d0d95eda69973a809d1ec   \n105  5e9d0d95eda69973a809d1ec   \n106  5e9d0d95eda69973a809d1ec   \n\n                                              payloads  \\\n0                           [5eb0e4b5b6c3bb0006eeb1e1]   \n1                           [5eb0e4b6b6c3bb0006eeb1e2]   \n2    [5eb0e4b6b6c3bb0006eeb1e3, 5eb0e4b6b6c3bb0006e...   \n3                           [5eb0e4b7b6c3bb0006eeb1e5]   \n4                           [5eb0e4b7b6c3bb0006eeb1e6]   \n..                                                 ...   \n102                         [5ef6a48e0059c33cee4a829f]   \n103                         [5ef6a4d50059c33cee4a82a1]   \n104                         [5ef6a4ea0059c33cee4a82a2]   \n105                         [5eb0e4d2b6c3bb0006eeb25e]   \n106                         [5eb0e4d2b6c3bb0006eeb25f]   \n\n                    launchpad  \\\n0    5e9e4502f5090995de566f86   \n1    5e9e4502f5090995de566f86   \n2    5e9e4502f5090995de566f86   \n3    5e9e4502f5090995de566f86   \n4    5e9e4502f5090995de566f86   \n..                        ...   \n102  5e9e4502f509094188566f88   \n103  5e9e4502f509094188566f88   \n104  5e9e4501f509094ba4566f84   \n105  5e9e4501f509094ba4566f84   \n106  5e9e4502f509094188566f88   \n\n                                                 cores  flight_number  \\\n0    [{'core': '5e9e289df35918033d3b2623', 'flight'...              1   \n1    [{'core': '5e9e289ef35918416a3b2624', 'flight'...              2   \n2    [{'core': '5e9e289ef3591814873b2625', 'flight'...              3   \n3    [{'core': '5e9e289ef3591855dc3b2626', 'flight'...              4   \n4    [{'core': '5e9e289ef359184f103b2627', 'flight'...              5   \n..                                                 ...            ...   \n102  [{'core': '5e9e28a7f3591817f23b2663', 'flight'...            103   \n103  [{'core': '5e9e28a6f35918c0803b265c', 'flight'...            104   \n104  [{'core': '5ef670f10059c33cee4a826c', 'flight'...            105   \n105  [{'core': '5f57c5440622a633027900a0', 'flight'...            106   \n106  [{'core': '5f57c53d0622a6330279009f', 'flight'...            107   \n\n                     date_utc  \n0    2006-03-24T22:30:00.000Z  \n1    2007-03-21T01:10:00.000Z  \n2    2008-08-03T03:34:00.000Z  \n3    2008-09-28T23:15:00.000Z  \n4    2009-07-13T03:35:00.000Z  \n..                        ...  \n102  2020-10-06T11:29:00.000Z  \n103  2020-10-18T12:25:00.000Z  \n104  2020-10-24T15:31:00.000Z  \n105  2020-11-05T23:24:00.000Z  \n106  2020-11-16T00:27:00.000Z  \n\n[107 rows x 6 columns]",
                        "text/html": "<div>\n<style scoped>\n    .dataframe tbody tr th:only-of-type {\n        vertical-align: middle;\n    }\n\n    .dataframe tbody tr th {\n        vertical-align: top;\n    }\n\n    .dataframe thead th {\n        text-align: right;\n    }\n</style>\n<table border=\"1\" class=\"dataframe\">\n  <thead>\n    <tr style=\"text-align: right;\">\n      <th></th>\n      <th>rocket</th>\n      <th>payloads</th>\n      <th>launchpad</th>\n      <th>cores</th>\n      <th>flight_number</th>\n      <th>date_utc</th>\n    </tr>\n  </thead>\n  <tbody>\n    <tr>\n      <th>0</th>\n      <td>5e9d0d95eda69955f709d1eb</td>\n      <td>[5eb0e4b5b6c3bb0006eeb1e1]</td>\n      <td>5e9e4502f5090995de566f86</td>\n      <td>[{'core': '5e9e289df35918033d3b2623', 'flight'...</td>\n      <td>1</td>\n      <td>2006-03-24T22:30:00.000Z</td>\n    </tr>\n    <tr>\n      <th>1</th>\n      <td>5e9d0d95eda69955f709d1eb</td>\n      <td>[5eb0e4b6b6c3bb0006eeb1e2]</td>\n      <td>5e9e4502f5090995de566f86</td>\n      <td>[{'core': '5e9e289ef35918416a3b2624', 'flight'...</td>\n      <td>2</td>\n      <td>2007-03-21T01:10:00.000Z</td>\n    </tr>\n    <tr>\n      <th>2</th>\n      <td>5e9d0d95eda69955f709d1eb</td>\n      <td>[5eb0e4b6b6c3bb0006eeb1e3, 5eb0e4b6b6c3bb0006e...</td>\n      <td>5e9e4502f5090995de566f86</td>\n      <td>[{'core': '5e9e289ef3591814873b2625', 'flight'...</td>\n      <td>3</td>\n      <td>2008-08-03T03:34:00.000Z</td>\n    </tr>\n    <tr>\n      <th>3</th>\n      <td>5e9d0d95eda69955f709d1eb</td>\n      <td>[5eb0e4b7b6c3bb0006eeb1e5]</td>\n      <td>5e9e4502f5090995de566f86</td>\n      <td>[{'core': '5e9e289ef3591855dc3b2626', 'flight'...</td>\n      <td>4</td>\n      <td>2008-09-28T23:15:00.000Z</td>\n    </tr>\n    <tr>\n      <th>4</th>\n      <td>5e9d0d95eda69955f709d1eb</td>\n      <td>[5eb0e4b7b6c3bb0006eeb1e6]</td>\n      <td>5e9e4502f5090995de566f86</td>\n      <td>[{'core': '5e9e289ef359184f103b2627', 'flight'...</td>\n      <td>5</td>\n      <td>2009-07-13T03:35:00.000Z</td>\n    </tr>\n    <tr>\n      <th>...</th>\n      <td>...</td>\n      <td>...</td>\n      <td>...</td>\n      <td>...</td>\n      <td>...</td>\n      <td>...</td>\n    </tr>\n    <tr>\n      <th>102</th>\n      <td>5e9d0d95eda69973a809d1ec</td>\n      <td>[5ef6a48e0059c33cee4a829f]</td>\n      <td>5e9e4502f509094188566f88</td>\n      <td>[{'core': '5e9e28a7f3591817f23b2663', 'flight'...</td>\n      <td>103</td>\n      <td>2020-10-06T11:29:00.000Z</td>\n    </tr>\n    <tr>\n      <th>103</th>\n      <td>5e9d0d95eda69973a809d1ec</td>\n      <td>[5ef6a4d50059c33cee4a82a1]</td>\n      <td>5e9e4502f509094188566f88</td>\n      <td>[{'core': '5e9e28a6f35918c0803b265c', 'flight'...</td>\n      <td>104</td>\n      <td>2020-10-18T12:25:00.000Z</td>\n    </tr>\n    <tr>\n      <th>104</th>\n      <td>5e9d0d95eda69973a809d1ec</td>\n      <td>[5ef6a4ea0059c33cee4a82a2]</td>\n      <td>5e9e4501f509094ba4566f84</td>\n      <td>[{'core': '5ef670f10059c33cee4a826c', 'flight'...</td>\n      <td>105</td>\n      <td>2020-10-24T15:31:00.000Z</td>\n    </tr>\n    <tr>\n      <th>105</th>\n      <td>5e9d0d95eda69973a809d1ec</td>\n      <td>[5eb0e4d2b6c3bb0006eeb25e]</td>\n      <td>5e9e4501f509094ba4566f84</td>\n      <td>[{'core': '5f57c5440622a633027900a0', 'flight'...</td>\n      <td>106</td>\n      <td>2020-11-05T23:24:00.000Z</td>\n    </tr>\n    <tr>\n      <th>106</th>\n      <td>5e9d0d95eda69973a809d1ec</td>\n      <td>[5eb0e4d2b6c3bb0006eeb25f]</td>\n      <td>5e9e4502f509094188566f88</td>\n      <td>[{'core': '5f57c53d0622a6330279009f', 'flight'...</td>\n      <td>107</td>\n      <td>2020-11-16T00:27:00.000Z</td>\n    </tr>\n  </tbody>\n</table>\n<p>107 rows \u00d7 6 columns</p>\n</div>"
                    },
                    "metadata": {}
                }
            ]
        },
        {
            "metadata": {},
            "cell_type": "code",
            "source": "data = data[data['cores'].map(len)==1]\ndata = data[data['payloads'].map(len)==1]",
            "execution_count": 21,
            "outputs": []
        },
        {
            "metadata": {},
            "cell_type": "code",
            "source": "\n# Since payloads and cores are lists of size 1 we will also extract the single value in the list and replace the feature.\ndata['cores'] = data['cores'].map(lambda x : x[0])\ndata['payloads'] = data['payloads'].map(lambda x : x[0])",
            "execution_count": 22,
            "outputs": []
        },
        {
            "metadata": {},
            "cell_type": "code",
            "source": "data",
            "execution_count": 23,
            "outputs": [
                {
                    "output_type": "execute_result",
                    "execution_count": 23,
                    "data": {
                        "text/plain": "                       rocket                  payloads  \\\n0    5e9d0d95eda69955f709d1eb  5eb0e4b5b6c3bb0006eeb1e1   \n1    5e9d0d95eda69955f709d1eb  5eb0e4b6b6c3bb0006eeb1e2   \n3    5e9d0d95eda69955f709d1eb  5eb0e4b7b6c3bb0006eeb1e5   \n4    5e9d0d95eda69955f709d1eb  5eb0e4b7b6c3bb0006eeb1e6   \n5    5e9d0d95eda69973a809d1ec  5eb0e4b7b6c3bb0006eeb1e7   \n..                        ...                       ...   \n102  5e9d0d95eda69973a809d1ec  5ef6a48e0059c33cee4a829f   \n103  5e9d0d95eda69973a809d1ec  5ef6a4d50059c33cee4a82a1   \n104  5e9d0d95eda69973a809d1ec  5ef6a4ea0059c33cee4a82a2   \n105  5e9d0d95eda69973a809d1ec  5eb0e4d2b6c3bb0006eeb25e   \n106  5e9d0d95eda69973a809d1ec  5eb0e4d2b6c3bb0006eeb25f   \n\n                    launchpad  \\\n0    5e9e4502f5090995de566f86   \n1    5e9e4502f5090995de566f86   \n3    5e9e4502f5090995de566f86   \n4    5e9e4502f5090995de566f86   \n5    5e9e4501f509094ba4566f84   \n..                        ...   \n102  5e9e4502f509094188566f88   \n103  5e9e4502f509094188566f88   \n104  5e9e4501f509094ba4566f84   \n105  5e9e4501f509094ba4566f84   \n106  5e9e4502f509094188566f88   \n\n                                                 cores  flight_number  \\\n0    {'core': '5e9e289df35918033d3b2623', 'flight':...              1   \n1    {'core': '5e9e289ef35918416a3b2624', 'flight':...              2   \n3    {'core': '5e9e289ef3591855dc3b2626', 'flight':...              4   \n4    {'core': '5e9e289ef359184f103b2627', 'flight':...              5   \n5    {'core': '5e9e289ef359185f2b3b2628', 'flight':...              6   \n..                                                 ...            ...   \n102  {'core': '5e9e28a7f3591817f23b2663', 'flight':...            103   \n103  {'core': '5e9e28a6f35918c0803b265c', 'flight':...            104   \n104  {'core': '5ef670f10059c33cee4a826c', 'flight':...            105   \n105  {'core': '5f57c5440622a633027900a0', 'flight':...            106   \n106  {'core': '5f57c53d0622a6330279009f', 'flight':...            107   \n\n                     date_utc  \n0    2006-03-24T22:30:00.000Z  \n1    2007-03-21T01:10:00.000Z  \n3    2008-09-28T23:15:00.000Z  \n4    2009-07-13T03:35:00.000Z  \n5    2010-06-04T18:45:00.000Z  \n..                        ...  \n102  2020-10-06T11:29:00.000Z  \n103  2020-10-18T12:25:00.000Z  \n104  2020-10-24T15:31:00.000Z  \n105  2020-11-05T23:24:00.000Z  \n106  2020-11-16T00:27:00.000Z  \n\n[95 rows x 6 columns]",
                        "text/html": "<div>\n<style scoped>\n    .dataframe tbody tr th:only-of-type {\n        vertical-align: middle;\n    }\n\n    .dataframe tbody tr th {\n        vertical-align: top;\n    }\n\n    .dataframe thead th {\n        text-align: right;\n    }\n</style>\n<table border=\"1\" class=\"dataframe\">\n  <thead>\n    <tr style=\"text-align: right;\">\n      <th></th>\n      <th>rocket</th>\n      <th>payloads</th>\n      <th>launchpad</th>\n      <th>cores</th>\n      <th>flight_number</th>\n      <th>date_utc</th>\n    </tr>\n  </thead>\n  <tbody>\n    <tr>\n      <th>0</th>\n      <td>5e9d0d95eda69955f709d1eb</td>\n      <td>5eb0e4b5b6c3bb0006eeb1e1</td>\n      <td>5e9e4502f5090995de566f86</td>\n      <td>{'core': '5e9e289df35918033d3b2623', 'flight':...</td>\n      <td>1</td>\n      <td>2006-03-24T22:30:00.000Z</td>\n    </tr>\n    <tr>\n      <th>1</th>\n      <td>5e9d0d95eda69955f709d1eb</td>\n      <td>5eb0e4b6b6c3bb0006eeb1e2</td>\n      <td>5e9e4502f5090995de566f86</td>\n      <td>{'core': '5e9e289ef35918416a3b2624', 'flight':...</td>\n      <td>2</td>\n      <td>2007-03-21T01:10:00.000Z</td>\n    </tr>\n    <tr>\n      <th>3</th>\n      <td>5e9d0d95eda69955f709d1eb</td>\n      <td>5eb0e4b7b6c3bb0006eeb1e5</td>\n      <td>5e9e4502f5090995de566f86</td>\n      <td>{'core': '5e9e289ef3591855dc3b2626', 'flight':...</td>\n      <td>4</td>\n      <td>2008-09-28T23:15:00.000Z</td>\n    </tr>\n    <tr>\n      <th>4</th>\n      <td>5e9d0d95eda69955f709d1eb</td>\n      <td>5eb0e4b7b6c3bb0006eeb1e6</td>\n      <td>5e9e4502f5090995de566f86</td>\n      <td>{'core': '5e9e289ef359184f103b2627', 'flight':...</td>\n      <td>5</td>\n      <td>2009-07-13T03:35:00.000Z</td>\n    </tr>\n    <tr>\n      <th>5</th>\n      <td>5e9d0d95eda69973a809d1ec</td>\n      <td>5eb0e4b7b6c3bb0006eeb1e7</td>\n      <td>5e9e4501f509094ba4566f84</td>\n      <td>{'core': '5e9e289ef359185f2b3b2628', 'flight':...</td>\n      <td>6</td>\n      <td>2010-06-04T18:45:00.000Z</td>\n    </tr>\n    <tr>\n      <th>...</th>\n      <td>...</td>\n      <td>...</td>\n      <td>...</td>\n      <td>...</td>\n      <td>...</td>\n      <td>...</td>\n    </tr>\n    <tr>\n      <th>102</th>\n      <td>5e9d0d95eda69973a809d1ec</td>\n      <td>5ef6a48e0059c33cee4a829f</td>\n      <td>5e9e4502f509094188566f88</td>\n      <td>{'core': '5e9e28a7f3591817f23b2663', 'flight':...</td>\n      <td>103</td>\n      <td>2020-10-06T11:29:00.000Z</td>\n    </tr>\n    <tr>\n      <th>103</th>\n      <td>5e9d0d95eda69973a809d1ec</td>\n      <td>5ef6a4d50059c33cee4a82a1</td>\n      <td>5e9e4502f509094188566f88</td>\n      <td>{'core': '5e9e28a6f35918c0803b265c', 'flight':...</td>\n      <td>104</td>\n      <td>2020-10-18T12:25:00.000Z</td>\n    </tr>\n    <tr>\n      <th>104</th>\n      <td>5e9d0d95eda69973a809d1ec</td>\n      <td>5ef6a4ea0059c33cee4a82a2</td>\n      <td>5e9e4501f509094ba4566f84</td>\n      <td>{'core': '5ef670f10059c33cee4a826c', 'flight':...</td>\n      <td>105</td>\n      <td>2020-10-24T15:31:00.000Z</td>\n    </tr>\n    <tr>\n      <th>105</th>\n      <td>5e9d0d95eda69973a809d1ec</td>\n      <td>5eb0e4d2b6c3bb0006eeb25e</td>\n      <td>5e9e4501f509094ba4566f84</td>\n      <td>{'core': '5f57c5440622a633027900a0', 'flight':...</td>\n      <td>106</td>\n      <td>2020-11-05T23:24:00.000Z</td>\n    </tr>\n    <tr>\n      <th>106</th>\n      <td>5e9d0d95eda69973a809d1ec</td>\n      <td>5eb0e4d2b6c3bb0006eeb25f</td>\n      <td>5e9e4502f509094188566f88</td>\n      <td>{'core': '5f57c53d0622a6330279009f', 'flight':...</td>\n      <td>107</td>\n      <td>2020-11-16T00:27:00.000Z</td>\n    </tr>\n  </tbody>\n</table>\n<p>95 rows \u00d7 6 columns</p>\n</div>"
                    },
                    "metadata": {}
                }
            ]
        },
        {
            "metadata": {},
            "cell_type": "code",
            "source": "# We also want to convert the date_utc to a datetime datatype and then extracting the date leaving the time\ndata['date'] = pd.to_datetime(data['date_utc']).dt.date\n\n# Using the date we will restrict the dates of the launches\ndata = data[data['date'] <= datetime.date(2020, 11, 13)]",
            "execution_count": 24,
            "outputs": []
        },
        {
            "metadata": {},
            "cell_type": "code",
            "source": "#Global variables \nBoosterVersion = []\nPayloadMass = []\nOrbit = []\nLaunchSite = []\nOutcome = []\nFlights = []\nGridFins = []\nReused = []\nLegs = []\nLandingPad = []\nBlock = []\nReusedCount = []\nSerial = []\nLongitude = []\nLatitude = []",
            "execution_count": 25,
            "outputs": []
        },
        {
            "metadata": {},
            "cell_type": "code",
            "source": "# Takes the dataset and uses the rocket column to call the API and append the data to the list\ndef getBoosterVersion(data):\n    for x in data['rocket']:\n       if x:\n        response = requests.get(\"https://api.spacexdata.com/v4/rockets/\"+str(x)).json()\n        BoosterVersion.append(response['name'])",
            "execution_count": 26,
            "outputs": []
        },
        {
            "metadata": {},
            "cell_type": "code",
            "source": "# Takes the dataset and uses the launchpad column to call the API and append the data to the list\ndef getLaunchSite(data):\n    for x in data['launchpad']:\n       if x:\n         response = requests.get(\"https://api.spacexdata.com/v4/launchpads/\"+str(x)).json()\n         Longitude.append(response['longitude'])\n         Latitude.append(response['latitude'])\n         LaunchSite.append(response['name'])",
            "execution_count": 27,
            "outputs": []
        },
        {
            "metadata": {},
            "cell_type": "code",
            "source": "# Takes the dataset and uses the payloads column to call the API and append the data to the lists\ndef getPayloadData(data):\n    for load in data['payloads']:\n       if load:\n        response = requests.get(\"https://api.spacexdata.com/v4/payloads/\"+load).json()\n        PayloadMass.append(response['mass_kg'])\n        Orbit.append(response['orbit'])",
            "execution_count": 28,
            "outputs": []
        },
        {
            "metadata": {},
            "cell_type": "code",
            "source": "# Takes the dataset and uses the cores column to call the API and append the data to the lists\ndef getCoreData(data):\n    for core in data['cores']:\n            if core['core'] != None:\n                response = requests.get(\"https://api.spacexdata.com/v4/cores/\"+core['core']).json()\n                Block.append(response['block'])\n                ReusedCount.append(response['reuse_count'])\n                Serial.append(response['serial'])\n            else:\n                Block.append(None)\n                ReusedCount.append(None)\n                Serial.append(None)\n            Outcome.append(str(core['landing_success'])+' '+str(core['landing_type']))\n            Flights.append(core['flight'])\n            GridFins.append(core['gridfins'])\n            Reused.append(core['reused'])\n            Legs.append(core['legs'])\n            LandingPad.append(core['landpad'])",
            "execution_count": 29,
            "outputs": []
        },
        {
            "metadata": {},
            "cell_type": "code",
            "source": "# Call getBoosterVersion\ngetBoosterVersion(data)",
            "execution_count": 30,
            "outputs": []
        },
        {
            "metadata": {},
            "cell_type": "code",
            "source": "BoosterVersion[0:5]",
            "execution_count": 31,
            "outputs": [
                {
                    "output_type": "execute_result",
                    "execution_count": 31,
                    "data": {
                        "text/plain": "['Falcon 1', 'Falcon 1', 'Falcon 1', 'Falcon 1', 'Falcon 9']"
                    },
                    "metadata": {}
                }
            ]
        },
        {
            "metadata": {},
            "cell_type": "code",
            "source": "# Call getLaunchSite\ngetLaunchSite(data)",
            "execution_count": 32,
            "outputs": []
        },
        {
            "metadata": {},
            "cell_type": "code",
            "source": "# Call getPayloadData\ngetPayloadData(data)",
            "execution_count": 33,
            "outputs": []
        },
        {
            "metadata": {},
            "cell_type": "code",
            "source": "launch_dict = {'FlightNumber': list(data['flight_number']),\n'Date': list(data['date']),\n'BoosterVersion':BoosterVersion,\n'PayloadMass':PayloadMass,\n'Orbit':Orbit,\n'LaunchSite':LaunchSite,\n'Outcome':Outcome,\n'Flights':Flights,\n'GridFins':GridFins,\n'Reused':Reused,\n'Legs':Legs,\n'LandingPad':LandingPad,\n'Block':Block,\n'ReusedCount':ReusedCount,\n'Serial':Serial,\n'Longitude': Longitude,\n'Latitude': Latitude}",
            "execution_count": 34,
            "outputs": []
        },
        {
            "metadata": {},
            "cell_type": "code",
            "source": "print(launch_dict)",
            "execution_count": 38,
            "outputs": [
                {
                    "output_type": "stream",
                    "text": "{'FlightNumber': [1, 2, 4, 5, 6, 8, 10, 11, 12, 13, 14, 15, 16, 17, 18, 19, 20, 22, 23, 24, 25, 26, 27, 28, 29, 30, 32, 33, 34, 35, 36, 37, 38, 39, 40, 41, 42, 43, 44, 45, 46, 47, 48, 49, 50, 51, 52, 53, 54, 57, 58, 59, 60, 61, 63, 64, 65, 66, 67, 68, 69, 70, 71, 72, 73, 74, 76, 78, 79, 80, 82, 83, 84, 85, 86, 87, 88, 89, 90, 91, 92, 93, 94, 95, 96, 97, 98, 100, 101, 102, 103, 104, 105, 106], 'Date': [datetime.date(2006, 3, 24), datetime.date(2007, 3, 21), datetime.date(2008, 9, 28), datetime.date(2009, 7, 13), datetime.date(2010, 6, 4), datetime.date(2012, 5, 22), datetime.date(2013, 3, 1), datetime.date(2013, 9, 29), datetime.date(2013, 12, 3), datetime.date(2014, 1, 6), datetime.date(2014, 4, 18), datetime.date(2014, 7, 14), datetime.date(2014, 8, 5), datetime.date(2014, 9, 7), datetime.date(2014, 9, 21), datetime.date(2015, 1, 10), datetime.date(2015, 2, 11), datetime.date(2015, 4, 14), datetime.date(2015, 4, 27), datetime.date(2015, 6, 28), datetime.date(2015, 12, 22), datetime.date(2016, 1, 17), datetime.date(2016, 3, 4), datetime.date(2016, 4, 8), datetime.date(2016, 5, 6), datetime.date(2016, 5, 27), datetime.date(2016, 7, 18), datetime.date(2016, 8, 14), datetime.date(2016, 9, 1), datetime.date(2017, 1, 14), datetime.date(2017, 2, 19), datetime.date(2017, 3, 16), datetime.date(2017, 3, 30), datetime.date(2017, 5, 1), datetime.date(2017, 5, 15), datetime.date(2017, 6, 3), datetime.date(2017, 6, 23), datetime.date(2017, 6, 25), datetime.date(2017, 7, 5), datetime.date(2017, 8, 14), datetime.date(2017, 8, 24), datetime.date(2017, 9, 7), datetime.date(2017, 10, 9), datetime.date(2017, 10, 11), datetime.date(2017, 10, 30), datetime.date(2017, 12, 15), datetime.date(2017, 12, 23), datetime.date(2018, 1, 8), datetime.date(2018, 1, 31), datetime.date(2018, 3, 6), datetime.date(2018, 3, 30), datetime.date(2018, 4, 2), datetime.date(2018, 4, 18), datetime.date(2018, 5, 11), datetime.date(2018, 6, 4), datetime.date(2018, 6, 29), datetime.date(2018, 7, 22), datetime.date(2018, 7, 25), datetime.date(2018, 8, 7), datetime.date(2018, 9, 10), datetime.date(2018, 10, 8), datetime.date(2018, 11, 15), datetime.date(2018, 12, 3), datetime.date(2018, 12, 5), datetime.date(2018, 12, 23), datetime.date(2019, 1, 11), datetime.date(2019, 3, 2), datetime.date(2019, 5, 4), datetime.date(2019, 5, 24), datetime.date(2019, 6, 12), datetime.date(2019, 7, 25), datetime.date(2019, 8, 6), datetime.date(2019, 11, 11), datetime.date(2019, 12, 5), datetime.date(2019, 12, 17), datetime.date(2020, 1, 7), datetime.date(2020, 1, 19), datetime.date(2020, 1, 29), datetime.date(2020, 2, 17), datetime.date(2020, 3, 7), datetime.date(2020, 3, 18), datetime.date(2020, 4, 22), datetime.date(2020, 5, 30), datetime.date(2020, 6, 4), datetime.date(2020, 6, 13), datetime.date(2020, 6, 30), datetime.date(2020, 7, 20), datetime.date(2020, 8, 18), datetime.date(2020, 8, 30), datetime.date(2020, 9, 3), datetime.date(2020, 10, 6), datetime.date(2020, 10, 18), datetime.date(2020, 10, 24), datetime.date(2020, 11, 5)], 'BoosterVersion': ['Falcon 1', 'Falcon 1', 'Falcon 1', 'Falcon 1', 'Falcon 9', 'Falcon 9', 'Falcon 9', 'Falcon 9', 'Falcon 9', 'Falcon 9', 'Falcon 9', 'Falcon 9', 'Falcon 9', 'Falcon 9', 'Falcon 9', 'Falcon 9', 'Falcon 9', 'Falcon 9', 'Falcon 9', 'Falcon 9', 'Falcon 9', 'Falcon 9', 'Falcon 9', 'Falcon 9', 'Falcon 9', 'Falcon 9', 'Falcon 9', 'Falcon 9', 'Falcon 9', 'Falcon 9', 'Falcon 9', 'Falcon 9', 'Falcon 9', 'Falcon 9', 'Falcon 9', 'Falcon 9', 'Falcon 9', 'Falcon 9', 'Falcon 9', 'Falcon 9', 'Falcon 9', 'Falcon 9', 'Falcon 9', 'Falcon 9', 'Falcon 9', 'Falcon 9', 'Falcon 9', 'Falcon 9', 'Falcon 9', 'Falcon 9', 'Falcon 9', 'Falcon 9', 'Falcon 9', 'Falcon 9', 'Falcon 9', 'Falcon 9', 'Falcon 9', 'Falcon 9', 'Falcon 9', 'Falcon 9', 'Falcon 9', 'Falcon 9', 'Falcon 9', 'Falcon 9', 'Falcon 9', 'Falcon 9', 'Falcon 9', 'Falcon 9', 'Falcon 9', 'Falcon 9', 'Falcon 9', 'Falcon 9', 'Falcon 9', 'Falcon 9', 'Falcon 9', 'Falcon 9', 'Falcon 9', 'Falcon 9', 'Falcon 9', 'Falcon 9', 'Falcon 9', 'Falcon 9', 'Falcon 9', 'Falcon 9', 'Falcon 9', 'Falcon 9', 'Falcon 9', 'Falcon 9', 'Falcon 9', 'Falcon 9', 'Falcon 9', 'Falcon 9', 'Falcon 9', 'Falcon 9'], 'PayloadMass': [20, None, 165, 200, None, 525, 677, 500, 3170, 3325, 2296, 1316, 4535, 4428, 2216, 2395, 570, 1898, 4707, 2477, 2034, 553, 5271, 3136, 4696, 3100, 2257, 4600, 5500, 9600, 2490, 5600, 5300, None, 6070, 2708, 3669, 9600, 6761, 2910, 475, 4990, 9600, 5200, 3700, 2205, 9600, None, 4230, 6092, 9600, 2760, 350, 3750, 5383.85, 2410, 7076, 9600, 5800, 7060, 2800, 3000, 4000, 2573, 4400, 9600, 12259, 2482, 13200, 1425, 2227.7, 6500, 15600, 5000, 6800, 15600, None, 15600, 15600, 1977, 15600, 15600, 9525, 15600, 15600, 3880, None, 15600, 1600, 15600, 15600, 15600, 15600, 3681], 'Orbit': ['LEO', 'LEO', 'LEO', 'LEO', 'LEO', 'LEO', 'ISS', 'PO', 'GTO', 'GTO', 'ISS', 'LEO', 'GTO', 'GTO', 'ISS', 'ISS', 'ES-L1', 'ISS', 'GTO', 'ISS', 'LEO', 'PO', 'GTO', 'ISS', 'GTO', 'GTO', 'ISS', 'GTO', 'GTO', 'PO', 'ISS', 'GTO', 'GTO', 'LEO', 'GTO', 'ISS', 'GTO', 'PO', 'GTO', 'ISS', 'SSO', 'LEO', 'PO', 'GTO', 'GTO', 'ISS', 'PO', 'LEO', 'GTO', 'GTO', 'PO', 'ISS', 'HEO', 'GTO', 'GTO', 'ISS', 'GTO', 'PO', 'GTO', 'GTO', 'SSO', 'GTO', 'SSO', 'ISS', 'MEO', 'PO', 'ISS', 'ISS', 'VLEO', 'SSO', 'ISS', 'GTO', 'VLEO', 'ISS', 'GTO', 'VLEO', 'SO', 'VLEO', 'VLEO', 'ISS', 'VLEO', 'VLEO', 'ISS', 'VLEO', 'VLEO', 'MEO', 'GEO', 'VLEO', 'SSO', 'VLEO', 'VLEO', 'VLEO', 'VLEO', 'MEO'], 'LaunchSite': ['Kwajalein Atoll', 'Kwajalein Atoll', 'Kwajalein Atoll', 'Kwajalein Atoll', 'CCSFS SLC 40', 'CCSFS SLC 40', 'CCSFS SLC 40', 'VAFB SLC 4E', 'CCSFS SLC 40', 'CCSFS SLC 40', 'CCSFS SLC 40', 'CCSFS SLC 40', 'CCSFS SLC 40', 'CCSFS SLC 40', 'CCSFS SLC 40', 'CCSFS SLC 40', 'CCSFS SLC 40', 'CCSFS SLC 40', 'CCSFS SLC 40', 'CCSFS SLC 40', 'CCSFS SLC 40', 'VAFB SLC 4E', 'CCSFS SLC 40', 'CCSFS SLC 40', 'CCSFS SLC 40', 'CCSFS SLC 40', 'CCSFS SLC 40', 'CCSFS SLC 40', 'CCSFS SLC 40', 'VAFB SLC 4E', 'KSC LC 39A', 'KSC LC 39A', 'KSC LC 39A', 'KSC LC 39A', 'KSC LC 39A', 'KSC LC 39A', 'KSC LC 39A', 'VAFB SLC 4E', 'KSC LC 39A', 'KSC LC 39A', 'VAFB SLC 4E', 'KSC LC 39A', 'VAFB SLC 4E', 'KSC LC 39A', 'KSC LC 39A', 'CCSFS SLC 40', 'VAFB SLC 4E', 'CCSFS SLC 40', 'CCSFS SLC 40', 'CCSFS SLC 40', 'VAFB SLC 4E', 'CCSFS SLC 40', 'CCSFS SLC 40', 'KSC LC 39A', 'CCSFS SLC 40', 'CCSFS SLC 40', 'CCSFS SLC 40', 'VAFB SLC 4E', 'CCSFS SLC 40', 'CCSFS SLC 40', 'VAFB SLC 4E', 'KSC LC 39A', 'VAFB SLC 4E', 'CCSFS SLC 40', 'CCSFS SLC 40', 'VAFB SLC 4E', 'KSC LC 39A', 'CCSFS SLC 40', 'CCSFS SLC 40', 'VAFB SLC 4E', 'CCSFS SLC 40', 'CCSFS SLC 40', 'CCSFS SLC 40', 'CCSFS SLC 40', 'CCSFS SLC 40', 'CCSFS SLC 40', 'KSC LC 39A', 'CCSFS SLC 40', 'CCSFS SLC 40', 'CCSFS SLC 40', 'KSC LC 39A', 'KSC LC 39A', 'KSC LC 39A', 'CCSFS SLC 40', 'CCSFS SLC 40', 'CCSFS SLC 40', 'CCSFS SLC 40', 'CCSFS SLC 40', 'CCSFS SLC 40', 'KSC LC 39A', 'KSC LC 39A', 'KSC LC 39A', 'CCSFS SLC 40', 'CCSFS SLC 40'], 'Outcome': [], 'Flights': [], 'GridFins': [], 'Reused': [], 'Legs': [], 'LandingPad': [], 'Block': [], 'ReusedCount': [], 'Serial': [], 'Longitude': [167.7431292, 167.7431292, 167.7431292, 167.7431292, -80.577366, -80.577366, -80.577366, -120.610829, -80.577366, -80.577366, -80.577366, -80.577366, -80.577366, -80.577366, -80.577366, -80.577366, -80.577366, -80.577366, -80.577366, -80.577366, -80.577366, -120.610829, -80.577366, -80.577366, -80.577366, -80.577366, -80.577366, -80.577366, -80.577366, -120.610829, -80.6039558, -80.6039558, -80.6039558, -80.6039558, -80.6039558, -80.6039558, -80.6039558, -120.610829, -80.6039558, -80.6039558, -120.610829, -80.6039558, -120.610829, -80.6039558, -80.6039558, -80.577366, -120.610829, -80.577366, -80.577366, -80.577366, -120.610829, -80.577366, -80.577366, -80.6039558, -80.577366, -80.577366, -80.577366, -120.610829, -80.577366, -80.577366, -120.610829, -80.6039558, -120.610829, -80.577366, -80.577366, -120.610829, -80.6039558, -80.577366, -80.577366, -120.610829, -80.577366, -80.577366, -80.577366, -80.577366, -80.577366, -80.577366, -80.6039558, -80.577366, -80.577366, -80.577366, -80.6039558, -80.6039558, -80.6039558, -80.577366, -80.577366, -80.577366, -80.577366, -80.577366, -80.577366, -80.6039558, -80.6039558, -80.6039558, -80.577366, -80.577366], 'Latitude': [9.0477206, 9.0477206, 9.0477206, 9.0477206, 28.5618571, 28.5618571, 28.5618571, 34.632093, 28.5618571, 28.5618571, 28.5618571, 28.5618571, 28.5618571, 28.5618571, 28.5618571, 28.5618571, 28.5618571, 28.5618571, 28.5618571, 28.5618571, 28.5618571, 34.632093, 28.5618571, 28.5618571, 28.5618571, 28.5618571, 28.5618571, 28.5618571, 28.5618571, 34.632093, 28.6080585, 28.6080585, 28.6080585, 28.6080585, 28.6080585, 28.6080585, 28.6080585, 34.632093, 28.6080585, 28.6080585, 34.632093, 28.6080585, 34.632093, 28.6080585, 28.6080585, 28.5618571, 34.632093, 28.5618571, 28.5618571, 28.5618571, 34.632093, 28.5618571, 28.5618571, 28.6080585, 28.5618571, 28.5618571, 28.5618571, 34.632093, 28.5618571, 28.5618571, 34.632093, 28.6080585, 34.632093, 28.5618571, 28.5618571, 34.632093, 28.6080585, 28.5618571, 28.5618571, 34.632093, 28.5618571, 28.5618571, 28.5618571, 28.5618571, 28.5618571, 28.5618571, 28.6080585, 28.5618571, 28.5618571, 28.5618571, 28.6080585, 28.6080585, 28.6080585, 28.5618571, 28.5618571, 28.5618571, 28.5618571, 28.5618571, 28.5618571, 28.6080585, 28.6080585, 28.6080585, 28.5618571, 28.5618571]}\n",
                    "name": "stdout"
                }
            ]
        },
        {
            "metadata": {},
            "cell_type": "code",
            "source": "df = pd.DataFrame(launch_dict)",
            "execution_count": 37,
            "outputs": [
                {
                    "output_type": "error",
                    "ename": "ValueError",
                    "evalue": "All arrays must be of the same length",
                    "traceback": [
                        "\u001b[0;31m---------------------------------------------------------------------------\u001b[0m",
                        "\u001b[0;31mValueError\u001b[0m                                Traceback (most recent call last)",
                        "Input \u001b[0;32mIn [37]\u001b[0m, in \u001b[0;36m<cell line: 1>\u001b[0;34m()\u001b[0m\n\u001b[0;32m----> 1\u001b[0m df \u001b[38;5;241m=\u001b[39m \u001b[43mpd\u001b[49m\u001b[38;5;241;43m.\u001b[39;49m\u001b[43mDataFrame\u001b[49m\u001b[43m(\u001b[49m\u001b[43mlaunch_dict\u001b[49m\u001b[43m)\u001b[49m\n",
                        "File \u001b[0;32m/opt/conda/envs/Python-3.10/lib/python3.10/site-packages/pandas/core/frame.py:636\u001b[0m, in \u001b[0;36mDataFrame.__init__\u001b[0;34m(self, data, index, columns, dtype, copy)\u001b[0m\n\u001b[1;32m    630\u001b[0m     mgr \u001b[38;5;241m=\u001b[39m \u001b[38;5;28mself\u001b[39m\u001b[38;5;241m.\u001b[39m_init_mgr(\n\u001b[1;32m    631\u001b[0m         data, axes\u001b[38;5;241m=\u001b[39m{\u001b[38;5;124m\"\u001b[39m\u001b[38;5;124mindex\u001b[39m\u001b[38;5;124m\"\u001b[39m: index, \u001b[38;5;124m\"\u001b[39m\u001b[38;5;124mcolumns\u001b[39m\u001b[38;5;124m\"\u001b[39m: columns}, dtype\u001b[38;5;241m=\u001b[39mdtype, copy\u001b[38;5;241m=\u001b[39mcopy\n\u001b[1;32m    632\u001b[0m     )\n\u001b[1;32m    634\u001b[0m \u001b[38;5;28;01melif\u001b[39;00m \u001b[38;5;28misinstance\u001b[39m(data, \u001b[38;5;28mdict\u001b[39m):\n\u001b[1;32m    635\u001b[0m     \u001b[38;5;66;03m# GH#38939 de facto copy defaults to False only in non-dict cases\u001b[39;00m\n\u001b[0;32m--> 636\u001b[0m     mgr \u001b[38;5;241m=\u001b[39m \u001b[43mdict_to_mgr\u001b[49m\u001b[43m(\u001b[49m\u001b[43mdata\u001b[49m\u001b[43m,\u001b[49m\u001b[43m \u001b[49m\u001b[43mindex\u001b[49m\u001b[43m,\u001b[49m\u001b[43m \u001b[49m\u001b[43mcolumns\u001b[49m\u001b[43m,\u001b[49m\u001b[43m \u001b[49m\u001b[43mdtype\u001b[49m\u001b[38;5;241;43m=\u001b[39;49m\u001b[43mdtype\u001b[49m\u001b[43m,\u001b[49m\u001b[43m \u001b[49m\u001b[43mcopy\u001b[49m\u001b[38;5;241;43m=\u001b[39;49m\u001b[43mcopy\u001b[49m\u001b[43m,\u001b[49m\u001b[43m \u001b[49m\u001b[43mtyp\u001b[49m\u001b[38;5;241;43m=\u001b[39;49m\u001b[43mmanager\u001b[49m\u001b[43m)\u001b[49m\n\u001b[1;32m    637\u001b[0m \u001b[38;5;28;01melif\u001b[39;00m \u001b[38;5;28misinstance\u001b[39m(data, ma\u001b[38;5;241m.\u001b[39mMaskedArray):\n\u001b[1;32m    638\u001b[0m     \u001b[38;5;28;01mimport\u001b[39;00m \u001b[38;5;21;01mnumpy\u001b[39;00m\u001b[38;5;21;01m.\u001b[39;00m\u001b[38;5;21;01mma\u001b[39;00m\u001b[38;5;21;01m.\u001b[39;00m\u001b[38;5;21;01mmrecords\u001b[39;00m \u001b[38;5;28;01mas\u001b[39;00m \u001b[38;5;21;01mmrecords\u001b[39;00m\n",
                        "File \u001b[0;32m/opt/conda/envs/Python-3.10/lib/python3.10/site-packages/pandas/core/internals/construction.py:502\u001b[0m, in \u001b[0;36mdict_to_mgr\u001b[0;34m(data, index, columns, dtype, typ, copy)\u001b[0m\n\u001b[1;32m    494\u001b[0m     arrays \u001b[38;5;241m=\u001b[39m [\n\u001b[1;32m    495\u001b[0m         x\n\u001b[1;32m    496\u001b[0m         \u001b[38;5;28;01mif\u001b[39;00m \u001b[38;5;129;01mnot\u001b[39;00m \u001b[38;5;28mhasattr\u001b[39m(x, \u001b[38;5;124m\"\u001b[39m\u001b[38;5;124mdtype\u001b[39m\u001b[38;5;124m\"\u001b[39m) \u001b[38;5;129;01mor\u001b[39;00m \u001b[38;5;129;01mnot\u001b[39;00m \u001b[38;5;28misinstance\u001b[39m(x\u001b[38;5;241m.\u001b[39mdtype, ExtensionDtype)\n\u001b[1;32m    497\u001b[0m         \u001b[38;5;28;01melse\u001b[39;00m x\u001b[38;5;241m.\u001b[39mcopy()\n\u001b[1;32m    498\u001b[0m         \u001b[38;5;28;01mfor\u001b[39;00m x \u001b[38;5;129;01min\u001b[39;00m arrays\n\u001b[1;32m    499\u001b[0m     ]\n\u001b[1;32m    500\u001b[0m     \u001b[38;5;66;03m# TODO: can we get rid of the dt64tz special case above?\u001b[39;00m\n\u001b[0;32m--> 502\u001b[0m \u001b[38;5;28;01mreturn\u001b[39;00m \u001b[43marrays_to_mgr\u001b[49m\u001b[43m(\u001b[49m\u001b[43marrays\u001b[49m\u001b[43m,\u001b[49m\u001b[43m \u001b[49m\u001b[43mcolumns\u001b[49m\u001b[43m,\u001b[49m\u001b[43m \u001b[49m\u001b[43mindex\u001b[49m\u001b[43m,\u001b[49m\u001b[43m \u001b[49m\u001b[43mdtype\u001b[49m\u001b[38;5;241;43m=\u001b[39;49m\u001b[43mdtype\u001b[49m\u001b[43m,\u001b[49m\u001b[43m \u001b[49m\u001b[43mtyp\u001b[49m\u001b[38;5;241;43m=\u001b[39;49m\u001b[43mtyp\u001b[49m\u001b[43m,\u001b[49m\u001b[43m \u001b[49m\u001b[43mconsolidate\u001b[49m\u001b[38;5;241;43m=\u001b[39;49m\u001b[43mcopy\u001b[49m\u001b[43m)\u001b[49m\n",
                        "File \u001b[0;32m/opt/conda/envs/Python-3.10/lib/python3.10/site-packages/pandas/core/internals/construction.py:120\u001b[0m, in \u001b[0;36marrays_to_mgr\u001b[0;34m(arrays, columns, index, dtype, verify_integrity, typ, consolidate)\u001b[0m\n\u001b[1;32m    117\u001b[0m \u001b[38;5;28;01mif\u001b[39;00m verify_integrity:\n\u001b[1;32m    118\u001b[0m     \u001b[38;5;66;03m# figure out the index, if necessary\u001b[39;00m\n\u001b[1;32m    119\u001b[0m     \u001b[38;5;28;01mif\u001b[39;00m index \u001b[38;5;129;01mis\u001b[39;00m \u001b[38;5;28;01mNone\u001b[39;00m:\n\u001b[0;32m--> 120\u001b[0m         index \u001b[38;5;241m=\u001b[39m \u001b[43m_extract_index\u001b[49m\u001b[43m(\u001b[49m\u001b[43marrays\u001b[49m\u001b[43m)\u001b[49m\n\u001b[1;32m    121\u001b[0m     \u001b[38;5;28;01melse\u001b[39;00m:\n\u001b[1;32m    122\u001b[0m         index \u001b[38;5;241m=\u001b[39m ensure_index(index)\n",
                        "File \u001b[0;32m/opt/conda/envs/Python-3.10/lib/python3.10/site-packages/pandas/core/internals/construction.py:674\u001b[0m, in \u001b[0;36m_extract_index\u001b[0;34m(data)\u001b[0m\n\u001b[1;32m    672\u001b[0m lengths \u001b[38;5;241m=\u001b[39m \u001b[38;5;28mlist\u001b[39m(\u001b[38;5;28mset\u001b[39m(raw_lengths))\n\u001b[1;32m    673\u001b[0m \u001b[38;5;28;01mif\u001b[39;00m \u001b[38;5;28mlen\u001b[39m(lengths) \u001b[38;5;241m>\u001b[39m \u001b[38;5;241m1\u001b[39m:\n\u001b[0;32m--> 674\u001b[0m     \u001b[38;5;28;01mraise\u001b[39;00m \u001b[38;5;167;01mValueError\u001b[39;00m(\u001b[38;5;124m\"\u001b[39m\u001b[38;5;124mAll arrays must be of the same length\u001b[39m\u001b[38;5;124m\"\u001b[39m)\n\u001b[1;32m    676\u001b[0m \u001b[38;5;28;01mif\u001b[39;00m have_dicts:\n\u001b[1;32m    677\u001b[0m     \u001b[38;5;28;01mraise\u001b[39;00m \u001b[38;5;167;01mValueError\u001b[39;00m(\n\u001b[1;32m    678\u001b[0m         \u001b[38;5;124m\"\u001b[39m\u001b[38;5;124mMixing dicts with non-Series may lead to ambiguous ordering.\u001b[39m\u001b[38;5;124m\"\u001b[39m\n\u001b[1;32m    679\u001b[0m     )\n",
                        "\u001b[0;31mValueError\u001b[0m: All arrays must be of the same length"
                    ]
                }
            ]
        },
        {
            "metadata": {},
            "cell_type": "code",
            "source": "",
            "execution_count": null,
            "outputs": []
        }
    ],
    "metadata": {
        "kernelspec": {
            "name": "python3",
            "display_name": "Python 3.10",
            "language": "python"
        },
        "language_info": {
            "name": "python",
            "version": "3.10.9",
            "mimetype": "text/x-python",
            "codemirror_mode": {
                "name": "ipython",
                "version": 3
            },
            "pygments_lexer": "ipython3",
            "nbconvert_exporter": "python",
            "file_extension": ".py"
        }
    },
    "nbformat": 4,
    "nbformat_minor": 1
}